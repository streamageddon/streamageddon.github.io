{
 "cells": [
  {
   "cell_type": "markdown",
   "id": "a35eeb9f-df70-4ab1-a243-2d2025888eb0",
   "metadata": {},
   "source": [
    "# Streamageddon\n",
    "Spotify's armageddon investments and data science meet\n",
    "## Preprocessing"
   ]
  },
  {
   "cell_type": "code",
   "execution_count": 3,
   "id": "31cf5f11-c2d1-4fb5-bfa2-d16d25e6b130",
   "metadata": {},
   "outputs": [
    {
     "name": "stdout",
     "output_type": "stream",
     "text": [
      "Requirement already satisfied: pandas==2.3.2 in /home/taguchi/.local/share/pipx/venvs/jupyterlab/lib/python3.12/site-packages (2.3.2)\n",
      "Requirement already satisfied: numpy>=1.26.0 in /home/taguchi/.local/share/pipx/venvs/jupyterlab/lib/python3.12/site-packages (from pandas==2.3.2) (2.3.2)\n",
      "Requirement already satisfied: python-dateutil>=2.8.2 in /home/taguchi/.local/share/pipx/venvs/jupyterlab/lib/python3.12/site-packages (from pandas==2.3.2) (2.9.0.post0)\n",
      "Requirement already satisfied: pytz>=2020.1 in /home/taguchi/.local/share/pipx/venvs/jupyterlab/lib/python3.12/site-packages (from pandas==2.3.2) (2025.2)\n",
      "Requirement already satisfied: tzdata>=2022.7 in /home/taguchi/.local/share/pipx/venvs/jupyterlab/lib/python3.12/site-packages (from pandas==2.3.2) (2025.2)\n",
      "Requirement already satisfied: six>=1.5 in /home/taguchi/.local/share/pipx/venvs/jupyterlab/lib/python3.12/site-packages (from python-dateutil>=2.8.2->pandas==2.3.2) (1.17.0)\n",
      "Note: you may need to restart the kernel to use updated packages.\n"
     ]
    }
   ],
   "source": [
    "%pip install pandas==2.3.2"
   ]
  },
  {
   "cell_type": "code",
   "execution_count": 39,
   "id": "564a2258",
   "metadata": {},
   "outputs": [
    {
     "name": "stdout",
     "output_type": "stream",
     "text": [
      "                SpotifyId                               Genres  Followers  \\\n",
      "0  6XYvaoDGE0VmRt83Jss9Sn  [neo-psychedelic, psychedelic rock]    1316858   \n",
      "1  5DDuwU1X2Aqdp3CxfXstRe                        [lo-fi indie]      27499   \n",
      "2  7AZwAitWq1KcFoIJhRWb6V                         [noise rock]     122693   \n",
      "3  5JLqvjW3Nyom2OsRUyFsS9  [art pop, noise rock, experimental]     188888   \n",
      "4  1kpDT6GWeimdyCmkwvTPvt          [electronic, house, techno]       1987   \n",
      "\n",
      "   Popularity                                              Image  \\\n",
      "0          49  https://i.scdn.co/image/ab6761610000e5ebce4d5d...   \n",
      "1          33  https://i.scdn.co/image/ab6761610000e5ebce4d5d...   \n",
      "2          29  https://i.scdn.co/image/ab6761610000e5ebce4d5d...   \n",
      "3          34  https://i.scdn.co/image/ab6761610000e5ebce4d5d...   \n",
      "4           7  https://i.scdn.co/image/ab6761610000e5ebce4d5d...   \n",
      "\n",
      "                               Name      Date  \n",
      "0  King Gizzard & the Lizard Wizard  20250725  \n",
      "1                       Hotline TNT  20250822  \n",
      "2                          Deerhoof  20250630  \n",
      "3                           Xiu Xiu  20250724  \n",
      "4                         Cleveland  20250626  \n"
     ]
    }
   ],
   "source": [
    "import pandas as pd\n",
    "\n",
    "df_csv = pd.read_csv(\"artists.csv\")\n",
    "df_json = pd.read_json(\"spotify-artists.json\")\n",
    "df_json_normalized = pd.json_normalize(df_json[\"artists\"])\n",
    "\n",
    "id = df_json_normalized[\"id\"]\n",
    "genres = df_json_normalized[\"genres\"]\n",
    "followers_total = df_json_normalized[\"followers.total\"]\n",
    "popularity = df_json_normalized[\"popularity\"]\n",
    "name = df_json_normalized[\"name\"]\n",
    "# First image of an artist\n",
    "image = df_json_normalized[\"images\"][0][0][\"url\"]\n",
    "data = {\"SpotifyId\": id,\n",
    "        \"Genres\": genres,\n",
    "        \"Followers\": followers_total,\n",
    "        \"Popularity\": popularity,\n",
    "        \"Image\": image}\n",
    "\n",
    "df_json_final = pd.DataFrame(data)\n",
    "df = df_json_final.merge(df_csv, on='SpotifyId', how='inner')\n",
    "print(df.head())"
   ]
  },
  {
   "cell_type": "code",
   "execution_count": null,
   "id": "725fc463-764d-478a-91cd-0884e3a3363c",
   "metadata": {},
   "outputs": [],
   "source": []
  }
 ],
 "metadata": {
  "kernelspec": {
   "display_name": "Python 3 (ipykernel)",
   "language": "python",
   "name": "python3"
  },
  "language_info": {
   "codemirror_mode": {
    "name": "ipython",
    "version": 3
   },
   "file_extension": ".py",
   "mimetype": "text/x-python",
   "name": "python",
   "nbconvert_exporter": "python",
   "pygments_lexer": "ipython3",
   "version": "3.10.12"
  }
 },
 "nbformat": 4,
 "nbformat_minor": 5
}
