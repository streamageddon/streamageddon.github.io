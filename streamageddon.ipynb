{
 "cells": [
  {
   "cell_type": "markdown",
   "id": "a35eeb9f-df70-4ab1-a243-2d2025888eb0",
   "metadata": {},
   "source": [
    "# Streamageddon\n",
    "Spotify's armageddon investments and data science meet\n",
    "## Preprocessing"
   ]
  },
  {
   "cell_type": "code",
   "execution_count": 3,
   "id": "31cf5f11-c2d1-4fb5-bfa2-d16d25e6b130",
   "metadata": {},
   "outputs": [
    {
     "name": "stdout",
     "output_type": "stream",
     "text": [
      "Requirement already satisfied: pandas==2.3.2 in /home/taguchi/.local/share/pipx/venvs/jupyterlab/lib/python3.12/site-packages (2.3.2)\n",
      "Requirement already satisfied: numpy>=1.26.0 in /home/taguchi/.local/share/pipx/venvs/jupyterlab/lib/python3.12/site-packages (from pandas==2.3.2) (2.3.2)\n",
      "Requirement already satisfied: python-dateutil>=2.8.2 in /home/taguchi/.local/share/pipx/venvs/jupyterlab/lib/python3.12/site-packages (from pandas==2.3.2) (2.9.0.post0)\n",
      "Requirement already satisfied: pytz>=2020.1 in /home/taguchi/.local/share/pipx/venvs/jupyterlab/lib/python3.12/site-packages (from pandas==2.3.2) (2025.2)\n",
      "Requirement already satisfied: tzdata>=2022.7 in /home/taguchi/.local/share/pipx/venvs/jupyterlab/lib/python3.12/site-packages (from pandas==2.3.2) (2025.2)\n",
      "Requirement already satisfied: six>=1.5 in /home/taguchi/.local/share/pipx/venvs/jupyterlab/lib/python3.12/site-packages (from python-dateutil>=2.8.2->pandas==2.3.2) (1.17.0)\n",
      "Note: you may need to restart the kernel to use updated packages.\n"
     ]
    }
   ],
   "source": [
    "%pip install pandas==2.3.2"
   ]
  },
  {
   "cell_type": "code",
   "execution_count": 1,
   "id": "564a2258",
   "metadata": {},
   "outputs": [
    {
     "name": "stdout",
     "output_type": "stream",
     "text": [
      "Hello, World!\n"
     ]
    }
   ],
   "source": [
    "import pandas as pd\n",
    "\n",
    "print(\"Hello, World!\")"
   ]
  }
 ],
 "metadata": {
  "kernelspec": {
   "display_name": "Python 3 (ipykernel)",
   "language": "python",
   "name": "python3"
  },
  "language_info": {
   "codemirror_mode": {
    "name": "ipython",
    "version": 3
   },
   "file_extension": ".py",
   "mimetype": "text/x-python",
   "name": "python",
   "nbconvert_exporter": "python",
   "pygments_lexer": "ipython3",
   "version": "3.12.3"
  }
 },
 "nbformat": 4,
 "nbformat_minor": 5
}
